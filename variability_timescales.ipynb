{
 "metadata": {
  "name": "",
  "signature": "sha256:91d5ef86e63516e9a6e0d0567f757e29468336e297f46bb53789f287bc78d172"
 },
 "nbformat": 3,
 "nbformat_minor": 0,
 "worksheets": [
  {
   "cells": [
    {
     "cell_type": "code",
     "collapsed": false,
     "input": [
      "import numpy as np\n",
      "import matplotlib.pyplot as plt\n",
      "mpl.rcParams['font.size'] = 10"
     ],
     "language": "python",
     "metadata": {},
     "outputs": [
      {
       "output_type": "stream",
       "stream": "stdout",
       "text": [
        "\n"
       ]
      }
     ],
     "prompt_number": 2
    },
    {
     "cell_type": "markdown",
     "metadata": {},
     "source": [
      "## Ghost halo timescale, variability from disk?\n",
      "\n",
      "If variability on the timescales for the ghost halos were associated with the disk, what is the corresponding disk radius?"
     ]
    },
    {
     "cell_type": "code",
     "collapsed": false,
     "input": [
      "G  = 6.67259e-8        # cm^3 s^-2 g^-1\n",
      "M6   = 1.e6 * 1.989e33 # g [10^8 solar masses]\n",
      "t100 = 100.0 * 3.156e7 # s [100 year timescale for ghost halo]\n",
      "\n",
      "pc_to_cm = 3.0857e18 # cm / pc\n",
      "km_to_cm = 1.e5      # cm / km"
     ],
     "language": "python",
     "metadata": {},
     "outputs": [],
     "prompt_number": 23
    },
    {
     "cell_type": "markdown",
     "metadata": {},
     "source": [
      "** 1. Assuming mass is virialized **\n",
      "\n",
      "$$ V^2 = \\frac{GM}{R} $$\n",
      "\n",
      "** 2. Associated disk radius **\n",
      "\n",
      "$$ V = \\frac{2 \\pi R}{T_{\\rm circ}} $$\n",
      "\n",
      "** Therefore **\n",
      "\n",
      "$$ R^3 = G M \\left( \\frac{T_{\\rm circ}}{2 \\pi} \\right)^2 $$"
     ]
    },
    {
     "cell_type": "code",
     "collapsed": false,
     "input": [
      "## Calculate it\n",
      "\n",
      "gm_term = G * M6                # cm^3 s^-2\n",
      "t_term  = t100 / (2*np.pi)      # s\n",
      "r_cubed = gm_term * t_term**2   # cm^3\n",
      "\n",
      "Rtest = np.power(r_cubed, 1./3.) / pc_to_cm # pc"
     ],
     "language": "python",
     "metadata": {},
     "outputs": [],
     "prompt_number": 24
    },
    {
     "cell_type": "code",
     "collapsed": false,
     "input": [
      "print Rtest"
     ],
     "language": "python",
     "metadata": {},
     "outputs": [
      {
       "output_type": "stream",
       "stream": "stdout",
       "text": [
        "0.0104454573004\n"
       ]
      }
     ],
     "prompt_number": 25
    },
    {
     "cell_type": "markdown",
     "metadata": {},
     "source": [
      "So the final result is\n",
      "\n",
      "$$ R = 0.01\\ {\\rm pc}\\ \\left( \\frac{M}{10^6 M_\\odot} \\right)^{1/3}\\ \\left( \\frac{\\delta t}{100\\ {\\rm years}} \\right)^{2/3} $$"
     ]
    },
    {
     "cell_type": "markdown",
     "metadata": {},
     "source": [
      "** What is the velocity of this region? **"
     ]
    },
    {
     "cell_type": "code",
     "collapsed": false,
     "input": [
      "velocity = np.power(G*M6/(Rtest*pc_to_cm), 0.5) # cm/s\n",
      "velocity /= km_to_cm            # km/s\n",
      "\n",
      "print velocity"
     ],
     "language": "python",
     "metadata": {},
     "outputs": [
      {
       "output_type": "stream",
       "stream": "stdout",
       "text": [
        "641.688169383\n"
       ]
      }
     ],
     "prompt_number": 26
    },
    {
     "cell_type": "markdown",
     "metadata": {},
     "source": [
      "So that's\n",
      "$$ V = 3000\\ {\\rm km/s}\\ \\left( \\frac{M}{10^8 M_{\\odot}} \\right)^{1/2}\\ \\left( \\frac{R}{0.05\\ {\\rm pc}} \\right)^{-1/2} $$"
     ]
    },
    {
     "cell_type": "markdown",
     "metadata": {},
     "source": [
      "## Make some plots"
     ]
    },
    {
     "cell_type": "code",
     "collapsed": false,
     "input": [
      "# Radius associated with t_max timescale [pc]\n",
      "def calc_R( m, t ):\n",
      "    gm = G * M6 * m\n",
      "    tt = t100*t / (2.0*np.pi)\n",
      "    rc = gm * tt**2\n",
      "    return np.power(rc, 1./3.) / pc_to_cm"
     ],
     "language": "python",
     "metadata": {},
     "outputs": [],
     "prompt_number": 27
    },
    {
     "cell_type": "code",
     "collapsed": false,
     "input": [
      "mgrid = np.logspace(0, 3, 100) # 10^6 to 10^9 Msun SMBH\n",
      "plt.plot(mgrid*1.e8, calc_R(mgrid, 1.0), 'k-', lw=2 )\n",
      "plt.semilogx()\n",
      "plt.xlabel(r\"$M_{SMBH}$ [$M_{\\odot}$]\")\n",
      "plt.ylabel(r\"$R$ [pc]\")"
     ],
     "language": "python",
     "metadata": {},
     "outputs": [
      {
       "metadata": {},
       "output_type": "pyout",
       "prompt_number": 28,
       "text": [
        "<matplotlib.text.Text at 0x10d3e8a50>"
       ]
      },
      {
       "metadata": {},
       "output_type": "display_data",
       "png": "[encoded data removed]",
       "text": [
        "<matplotlib.figure.Figure at 0x10d45d610>"
       ]
      }
     ],
     "prompt_number": 28
    },
    {
     "cell_type": "code",
     "collapsed": false,
     "input": [
      "tgrid = np.logspace(-2, 1, 100) # 1 to 1000 years\n",
      "plt.plot(tgrid*100.0, calc_R(1.0, tgrid), 'k-', lw=2)\n",
      "plt.semilogx()\n",
      "plt.xlabel(r\"$\\delta t$ [years]\")\n",
      "plt.ylabel(r\"$R$ [pc]\")"
     ],
     "language": "python",
     "metadata": {},
     "outputs": [
      {
       "metadata": {},
       "output_type": "pyout",
       "prompt_number": 29,
       "text": [
        "<matplotlib.text.Text at 0x10d36b5d0>"
       ]
      },
      {
       "metadata": {},
       "output_type": "display_data",
       "png": "[encoded data removed]",
       "text": [
        "<matplotlib.figure.Figure at 0x10d1789d0>"
       ]
      }
     ],
     "prompt_number": 29
    },
    {
     "cell_type": "markdown",
     "metadata": {},
     "source": [
      "## Viscous time scale for a thin disk\n",
      "\n",
      "Taking the famous \"alpha prescription\", an estimate for the disk viscosity is\n",
      "\n",
      "$$ \\nu = \\alpha c_s h\\ \\ (1) $$\n",
      "where $\\alpha \\leq 1$ (Eq 4.34, Accretion Power in Astrophysics)\n",
      "\n",
      "The other quantities are\n",
      "$$ c_s^2 = \\frac{kT}{m_p}\\ \\ (2) $$\n",
      "and\n",
      "$$ h^2 = \\frac{kT R^3}{G M m_p}\\ \\ (3) $$\n",
      "(with help from Section 5.7.2 of Choudhuri, Physics of Fluids and Plasmas)\n",
      "\n",
      "The \"viscous timescale\" -- or amount of time it takes for a \"disc annulus to move a radial distance $R$\" -- is\n",
      "$$ t_{\\rm visc} \\sim R^2 / \\nu $$\n",
      "(Eq 5.13, Accretion Power in Astrophysics)"
     ]
    },
    {
     "cell_type": "code",
     "collapsed": false,
     "input": [
      "## Constants for calculation\n",
      "\n",
      "k  = 1.380658e-16  # erg/K\n",
      "T0 = 1.e7          # K\n",
      "\n",
      "mp = 1.6726231e-24 # g\n",
      "\n",
      "R0 = 3.0857e18     # cm (1 pc)\n",
      "\n",
      "yr = 3.e7          # s/yr"
     ],
     "language": "python",
     "metadata": {},
     "outputs": [],
     "prompt_number": 30
    },
    {
     "cell_type": "code",
     "collapsed": false,
     "input": [
      "def cs( T=1.0 ):\n",
      "    return np.sqrt( k * T0 * T / mp )\n",
      "\n",
      "def h( M=1.0, R=1.0, T=1.0 ):\n",
      "    ftop = k * T0*T * (R0*R)**3\n",
      "    fbot = G * M6*M * mp\n",
      "    return np.sqrt( ftop / fbot )\n",
      "\n",
      "ALPHA = 0.1\n",
      "def visc( M=1.0, R=1.0, T=1.0, alpha=ALPHA ):\n",
      "    Cs = cs(T)\n",
      "    H  = h(M, R, T)\n",
      "    return alpha * Cs * H\n",
      "\n",
      "def tvisc( M=1.0, R=1.0, T=1.0, alpha=ALPHA ):\n",
      "    nu = visc(M, R, T, alpha)\n",
      "    return (R0*R)**2 / nu"
     ],
     "language": "python",
     "metadata": {},
     "outputs": [],
     "prompt_number": 31
    },
    {
     "cell_type": "code",
     "collapsed": false,
     "input": [
      "## Get fiducial values\n",
      "print \"Fiducial c_s\", cs()*1.e-5, \"km/s\"\n",
      "print \"Fiducial h\", h()/R0, \"pc\"\n",
      "print \"Fiducial viscosity\", visc()\n",
      "print \"Fiducial t_visc\", tvisc()/yr, \"years\""
     ],
     "language": "python",
     "metadata": {},
     "outputs": [
      {
       "output_type": "stream",
       "stream": "stdout",
       "text": [
        "Fiducial c_s 287.305547446 km/s\n",
        "Fiducial h 4.38082848385 pc\n",
        "Fiducial viscosity 3.88377411058e+25\n",
        "Fiducial t_visc 8172.07199226 years\n"
       ]
      }
     ],
     "prompt_number": 32
    },
    {
     "cell_type": "markdown",
     "metadata": {},
     "source": [
      "** Taking the fiducial values above:**\n",
      "\n",
      "$$ c_s = 300\\ \\left(\\frac{T}{10^7\\ {\\rm K}}\\right)^{1/2}\\ {\\rm km/s}$$\n",
      "\n",
      "$$ h = 4\\ \\left(\\frac{T}{10^7\\ {\\rm K}}\\right)^{1/2} \n",
      "    \\left(\\frac{R}{{\\rm pc}}\\right)^{3/2}\n",
      "    \\left(\\frac{M}{10^6\\ M_\\odot}\\right)^{-1/2}\\ {\\rm pc}  $$\n",
      "\n",
      "$$ t_{\\rm visc} = \\frac{8000}{\\alpha}\\ \\left(\\frac{M}{10^6\\ M_\\odot}\\right)^{1/2}\n",
      "    \\left(\\frac{R}{{\\rm pc}}\\right)^{1/2}\n",
      "    \\left(\\frac{T}{10^6\\ {\\rm K}}\\right)^{-1}\\ {\\rm years}$$"
     ]
    },
    {
     "cell_type": "code",
     "collapsed": false,
     "input": [
      "## Calculate tvisc for a number of black hole masses\n",
      "\n",
      "rad = np.logspace(-7, 0, 100)\n",
      "MBH = np.array([0.1, 1.0, 10.0, 100.0])  # 10^6 - 10^8 Msun\n",
      "col = dict(zip(MBH, ['0.0','0.3','0.4','0.6']))\n",
      "labels = dict(zip(MBH, [\"$10^5$ M$_\\odot$\",\"$10^6$ M$_\\odot$\",\"$10^7$ M$_\\odot$\",\"$10^8$ M$_\\odot$\"]))\n",
      "\n",
      "for MM in MBH:\n",
      "    plt.plot(np.log10(rad), np.log10(tvisc(MM, rad)/yr), lw=2, color=col[MM], label=labels[MM])\n",
      "    \n",
      "plt.legend(loc=\"upper left\", frameon=False)\n",
      "plt.ylim(0,6)\n",
      "\n",
      "rtmax = calc_R(MBH/100.0, 1.0)\n",
      "tvmax = tvisc(MBH,rtmax)/yr\n",
      "plt.plot( np.log10(rtmax), np.log10(tvmax), 'ko' )\n",
      "\n",
      "plt.axhline(np.log10(t100/yr), color='k', ls=':')\n",
      "\n",
      "plt.xlabel(r\"$\\log$ Radius [pc]\", size=12)\n",
      "plt.ylabel(r\"$\\log\\ t_{\\rm visc}\\ $ [years]\", size=12)\n",
      "#plt.savefig('variability_timescales_fig1.pdf', format='pdf')"
     ],
     "language": "python",
     "metadata": {},
     "outputs": [
      {
       "metadata": {},
       "output_type": "display_data",
       "png": "[encoded data removed]",
       "text": [
        "<matplotlib.figure.Figure at 0x10d7dbbd0>"
       ]
      }
     ],
     "prompt_number": 38
    },
    {
     "cell_type": "markdown",
     "metadata": {},
     "source": [
      "## Timescale for inner edge of accretion disk\n",
      "\n",
      "The timescale for the break frequency in the PSD is likely associated with the inner edge of the disk (McHardy 2010, L.N.Ph.)\n",
      "$$ T_B = 1/\\nu_B \\propto M/\\dot{m}_E $$\n",
      "\n",
      "Using NGC 4051 as template, which has a break frequency $\\nu_B \\sim 8 \\times 10^{-4}$ and $\\dot{m}_E \\sim 0.3$\n",
      "$$ \\nu_B = 800\\ \\dot{m}_E \\left(\\frac{M}{M_\\odot}\\right)^{-1}\\ {\\rm Hz} $$\n",
      "or"
     ]
    },
    {
     "cell_type": "code",
     "collapsed": false,
     "input": [
      "1.0 / (800.0/1.e6)"
     ],
     "language": "python",
     "metadata": {},
     "outputs": [
      {
       "metadata": {},
       "output_type": "pyout",
       "prompt_number": 34,
       "text": [
        "1250.0"
       ]
      }
     ],
     "prompt_number": 34
    },
    {
     "cell_type": "markdown",
     "metadata": {},
     "source": [
      "$$ T_B = 1250\\ \\dot{m}_E^{-1} \\left(\\frac{M}{10^6\\ M_\\odot}\\right)\\ {\\rm seconds} $$\n",
      "\n",
      "What radius does that correspond to?"
     ]
    },
    {
     "cell_type": "code",
     "collapsed": false,
     "input": [
      "RB = calc_R( 0.01, 1250./t100 ) #pc\n",
      "print(RB)"
     ],
     "language": "python",
     "metadata": {},
     "outputs": [
      {
       "output_type": "stream",
       "stream": "stdout",
       "text": [
        "1.21369474174e-07\n"
       ]
      }
     ],
     "prompt_number": 35
    },
    {
     "cell_type": "markdown",
     "metadata": {},
     "source": [
      "$$ R_B \\approx 6 \\times 10^{-7}\\ \\dot{m}_E^{-2/3}\\ \\left(\\frac{M}{10^6\\ M_\\odot}\\right)\\ {\\rm pc} $$\n",
      "\n",
      "That's several schwarzschild radii, for a $10^6\\ M_\\odot$ black hole ($r_s \\approx 10^{-7}\\ M_6$ pc).\n",
      "\n",
      "$$ R_B \\approx 6\\ r_s\\ \\dot{m}_E^{-2/3} $$"
     ]
    },
    {
     "cell_type": "code",
     "collapsed": false,
     "input": [
      "def rs( m6 ):\n",
      "    return 1.e-7 * m6 # pc"
     ],
     "language": "python",
     "metadata": {},
     "outputs": [],
     "prompt_number": 36
    },
    {
     "cell_type": "code",
     "collapsed": false,
     "input": [
      "## Redo above plot in units of schwarzschild radii\n",
      "\n",
      "rs_MBH = dict(zip(MBH,rs(MBH)))\n",
      "\n",
      "for MM in MBH:\n",
      "    plt.plot(np.log10(rad/rs_MBH[MM]), np.log10(tvisc(MM, rad)/yr), lw=2, color=col[MM], label=labels[MM])\n",
      "    \n",
      "plt.legend(loc=\"lower right\", frameon=False)\n",
      "plt.xlim(0,8)\n",
      "\n",
      "rtmax = calc_R(MBH, 1.0)\n",
      "tvmax = tvisc(MBH,rtmax)/yr\n",
      "plt.plot( np.log10(rtmax/rs(MBH)), np.log10(tvmax), 'ko' )\n",
      "\n",
      "plt.axhline(np.log10(t100/yr), color='k', ls=':')\n",
      "rb_sub_edd = 6.0 * np.power(0.3, -2./3.)\n",
      "plt.axvline(np.log10(6.0), color='r', ls='-')\n",
      "plt.axvline(np.log10(rb_sub_edd), color='r', ls='--')\n",
      "\n",
      "plt.xlabel(r\"$\\log\\ r_s$\", size=12)\n",
      "plt.ylabel(r\"$\\log\\ t_{\\rm visc}\\ $ [years]\", size=12)\n",
      "\n",
      "#plt.savefig('variability_timescales_fig2.pdf', format='pdf')"
     ],
     "language": "python",
     "metadata": {},
     "outputs": [
      {
       "metadata": {},
       "output_type": "display_data",
       "png": "[encoded data removed]",
       "text": [
        "<matplotlib.figure.Figure at 0x10d8c2fd0>"
       ]
      }
     ],
     "prompt_number": 39
    },
    {
     "cell_type": "markdown",
     "metadata": {},
     "source": [
      "## How warm should the accretion disk be?\n",
      "\n",
      "Just guessing from the fact that we might expect metals to be highly ionized, $kT \\sim 5$ keV."
     ]
    },
    {
     "cell_type": "code",
     "collapsed": false,
     "input": [
      "eV = 1.602e-12  # erg/eV\n",
      "\n",
      "print \"Temp (1 keV) ~\", 1.e3 * eV / k, \"K\""
     ],
     "language": "python",
     "metadata": {},
     "outputs": [
      {
       "output_type": "stream",
       "stream": "stdout",
       "text": [
        "Temp (1 keV) ~ 11603163.1295 K\n"
       ]
      }
     ],
     "prompt_number": 19
    },
    {
     "cell_type": "markdown",
     "metadata": {},
     "source": [
      "So this should be a good rule of thumb to remember\n",
      "\n",
      "$$ T \\approx 10^7\\ K\\ \\left(\\frac{E}{{\\rm keV}}\\right) $$"
     ]
    },
    {
     "cell_type": "code",
     "collapsed": false,
     "input": [],
     "language": "python",
     "metadata": {},
     "outputs": [],
     "prompt_number": 19
    }
   ],
   "metadata": {}
  }
 ]
}