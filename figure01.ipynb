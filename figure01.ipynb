{
 "metadata": {
  "name": "",
  "signature": "sha256:6aed65d4de5cfbdee2f1a35f7140ccbb7cbfaccff82aafb8607ffe5857d309af"
 },
 "nbformat": 3,
 "nbformat_minor": 0,
 "worksheets": [
  {
   "cells": [
    {
     "cell_type": "code",
     "collapsed": false,
     "input": [
      "import numpy as np\n",
      "import matplotlib.pyplot as plt\n",
      "\n",
      "rcParams['font.size'] = 12"
     ],
     "language": "python",
     "metadata": {},
     "outputs": [],
     "prompt_number": 1
    },
    {
     "cell_type": "markdown",
     "metadata": {},
     "source": [
      "## Optical depth of IGM dust for a z=2 source"
     ]
    },
    {
     "cell_type": "code",
     "collapsed": false,
     "input": [
      "from halo import *"
     ],
     "language": "python",
     "metadata": {},
     "outputs": [],
     "prompt_number": 2
    },
    {
     "cell_type": "markdown",
     "metadata": {},
     "source": [
      "** Cosmological parameters **"
     ]
    },
    {
     "cell_type": "code",
     "collapsed": false,
     "input": [
      "IGM_upperlim_cosmology = cosmo.Cosmology(d=1.e-5)\n",
      "print \"H0 =\", IGM_upperlim_cosmology.h0\n",
      "print \"Omega_Lambda =\", IGM_upperlim_cosmology.l\n",
      "print \"Omega_M =\", IGM_upperlim_cosmology.m\n",
      "print \"Omega_d_IGM =\", IGM_upperlim_cosmology.d"
     ],
     "language": "python",
     "metadata": {},
     "outputs": [
      {
       "output_type": "stream",
       "stream": "stdout",
       "text": [
        "H0 = 75.0\n",
        "Omega_Lambda = 0.7\n",
        "Omega_M = 0.3\n",
        "Omega_d_IGM = 1e-05\n"
       ]
      }
     ],
     "prompt_number": 3
    },
    {
     "cell_type": "markdown",
     "metadata": {},
     "source": [
      "** Scattering Models **"
     ]
    },
    {
     "cell_type": "code",
     "collapsed": false,
     "input": [
      "RHO_SIL, RHO_GRA = 3.8, 2.2 # g cm^-3\n",
      "\n",
      "RGDRUDE  = ss.makeScatmodel('RG','Drude')\n",
      "GRAPHITE = ss.makeScatmodel('Mie','Graphite')\n",
      "SILICATE = ss.makeScatmodel('Mie','Silicate')"
     ],
     "language": "python",
     "metadata": {},
     "outputs": [],
     "prompt_number": 4
    },
    {
     "cell_type": "code",
     "collapsed": false,
     "input": [
      "## View dust distribution defaults\n",
      "test = dust.Dustdist()\n",
      "print 'Default rho =', test.rho\n",
      "print 'Default p =', test.p"
     ],
     "language": "python",
     "metadata": {},
     "outputs": [
      {
       "output_type": "stream",
       "stream": "stdout",
       "text": [
        "Default rho = 3.0\n",
        "Default p = 3.5\n"
       ]
      }
     ],
     "prompt_number": 70
    },
    {
     "cell_type": "markdown",
     "metadata": {},
     "source": [
      "** Raw data last run on: ** January 28, 2015"
     ]
    },
    {
     "cell_type": "markdown",
     "metadata": {},
     "source": [
      "** Calculate 0.5 keV optical depth as a function of grain size **"
     ]
    },
    {
     "cell_type": "code",
     "collapsed": false,
     "input": [
      "ENERGY    = 0.5\n",
      "Z_S       = 2.0\n",
      "grainsize = np.linspace(0.1,1.0,20)\n",
      "'''\n",
      "taux_rg  = [cosmo.CosmTauX(Z_S, E=ENERGY, dist=dust.Grain(a), scatm=RGDRUDE, cosm=IGM_upperlim_cosmology) \n",
      "                 for a in grainsize]\n",
      "\n",
      "taux_gra = [cosmo.CosmTauX(Z_S, E=ENERGY, dist=dust.Grain(a,rho=RHO_GRA), scatm=GRAPHITE, cosm=IGM_upperlim_cosmology) \n",
      "                for a in grainsize]\n",
      "taux_sil = [cosmo.CosmTauX(Z_S, E=ENERGY, dist=dust.Grain(a,rho=RHO_SIL), scatm=SILICATE, cosm=IGM_upperlim_cosmology) \n",
      "                for a in grainsize]\n",
      "'''"
     ],
     "language": "python",
     "metadata": {},
     "outputs": [],
     "prompt_number": 5
    },
    {
     "cell_type": "markdown",
     "metadata": {},
     "source": [
      "** Calculate optical depth as a function of energy for two grain sizes: 0.1 and 1.0 um **"
     ]
    },
    {
     "cell_type": "code",
     "collapsed": false,
     "input": [
      "small_a, big_a = 0.1, 1.0 # um\n",
      "\n",
      "energy_range = np.linspace(0.5,1.5,20)\n",
      "\n",
      "'''\n",
      "taux_small_rg = [cosmo.CosmTauX(Z_S, E=energy, dist=dust.Grain(small_a), scatm=RGDRUDE, cosm=IGM_upperlim_cosmology) \n",
      "                 for energy in energy_range]\n",
      "\n",
      "taux_small_gra = [cosmo.CosmTauX(Z_S, E=energy, dist=dust.Grain(small_a,rho=RHO_GRA), scatm=GRAPHITE, cosm=IGM_upperlim_cosmology) \n",
      "                for energy in energy_range]\n",
      "taux_small_sil = [cosmo.CosmTauX(Z_S, E=energy, dist=dust.Grain(small_a,rho=RHO_SIL), scatm=SILICATE, cosm=IGM_upperlim_cosmology) \n",
      "                for energy in energy_range]\n",
      "\n",
      "taux_big_rg = [cosmo.CosmTauX(Z_S, E=energy, dist=dust.Grain(big_a), scatm=RGDRUDE, cosm=IGM_upperlim_cosmology) \n",
      "                 for energy in energy_range]\n",
      "\n",
      "taux_big_gra = [cosmo.CosmTauX(Z_S, E=energy, dist=dust.Grain(big_a,rho=RHO_GRA), scatm=GRAPHITE, cosm=IGM_upperlim_cosmology) \n",
      "                for energy in energy_range]\n",
      "taux_big_sil = [cosmo.CosmTauX(Z_S, E=energy, dist=dust.Grain(big_a,rho=RHO_SIL), scatm=SILICATE, cosm=IGM_upperlim_cosmology) \n",
      "                for energy in energy_range]\n",
      "'''"
     ],
     "language": "python",
     "metadata": {},
     "outputs": [],
     "prompt_number": 6
    },
    {
     "cell_type": "markdown",
     "metadata": {},
     "source": [
      "** Calculate optical depth for the power law distribution of Silicate and Graphite grains **\n",
      "\n",
      "p=3.5 power law distribution between 0.1 um and 1.0 um"
     ]
    },
    {
     "cell_type": "code",
     "collapsed": false,
     "input": [
      "radii = np.linspace(0.1, 1.0, 50)\n",
      "'''\n",
      "taux_gra_dist = [cosmo.CosmTauX(Z_S, E=energy, dist=dust.Dustdist(rad=radii,rho=RHO_GRA), scatm=GRAPHITE, cosm=IGM_upperlim_cosmology) \\\n",
      "                 for energy in energy_range]\n",
      "\n",
      "taux_sil_dist = [cosmo.CosmTauX(Z_S, E=energy, dist=dust.Dustdist(rad=radii,rho=RHO_SIL), scatm=SILICATE, cosm=IGM_upperlim_cosmology) \\\n",
      "                 for energy in energy_range]\n",
      "'''"
     ],
     "language": "python",
     "metadata": {},
     "outputs": [
      {
       "metadata": {},
       "output_type": "pyout",
       "prompt_number": 68,
       "text": [
        "'\\ntaux_gra_dist = [cosmo.CosmTauX(Z_S, E=energy, dist=dust.Dustdist(rad=radii,rho=RHO_GRA), scatm=GRAPHITE, cosm=IGM_upperlim_cosmology)                  for energy in energy_range]\\n\\ntaux_sil_dist = [cosmo.CosmTauX(Z_S, E=energy, dist=dust.Dustdist(rad=radii,rho=RHO_SIL), scatm=SILICATE, cosm=IGM_upperlim_cosmology)                  for energy in energy_range]\\n'"
       ]
      }
     ],
     "prompt_number": 68
    },
    {
     "cell_type": "markdown",
     "metadata": {},
     "source": [
      "*January 29, 2015* - There was something wrong with one of the silicate calculations.  Fill in that missing data point."
     ]
    },
    {
     "cell_type": "code",
     "collapsed": false,
     "input": [
      "print energy_range[-3], taux_sil_dist[-3]"
     ],
     "language": "python",
     "metadata": {},
     "outputs": [
      {
       "output_type": "stream",
       "stream": "stdout",
       "text": [
        "1.39473684211 inf\n"
       ]
      }
     ],
     "prompt_number": 48
    },
    {
     "cell_type": "code",
     "collapsed": false,
     "input": [
      "replacement = cosmo.CosmTauX(Z_S, E=energy_range[-3], dist=dust.Dustdist(rad=radii,rho=RHO_SIL), \\\n",
      "                             scatm=SILICATE, cosm=IGM_upperlim_cosmology)"
     ],
     "language": "python",
     "metadata": {},
     "outputs": [],
     "prompt_number": 49
    },
    {
     "cell_type": "code",
     "collapsed": false,
     "input": [
      "print replacement"
     ],
     "language": "python",
     "metadata": {},
     "outputs": [
      {
       "output_type": "stream",
       "stream": "stdout",
       "text": [
        "0.0162533642479\n"
       ]
      }
     ],
     "prompt_number": 50
    },
    {
     "cell_type": "code",
     "collapsed": false,
     "input": [
      "taux_sil_dist[-3] = replacement"
     ],
     "language": "python",
     "metadata": {},
     "outputs": [],
     "prompt_number": 51
    },
    {
     "cell_type": "markdown",
     "metadata": {},
     "source": [
      "** Write everything to a file for later reference **\n",
      "\n",
      "** Files last saved on:** January 29, 2015"
     ]
    },
    {
     "cell_type": "code",
     "collapsed": false,
     "input": [
      "from astropy.io import ascii"
     ],
     "language": "python",
     "metadata": {},
     "outputs": [],
     "prompt_number": 16
    },
    {
     "cell_type": "code",
     "collapsed": false,
     "input": [
      "'''\n",
      "outfile = 'figure01_left.txt'\n",
      "ascii.write([grainsize, taux_rg, taux_gra, taux_sil], outfile, \\\n",
      "            names=['Grainsize','RG-Drude','Mie-Graphite','Mie-Silicate'])\n",
      "'''"
     ],
     "language": "python",
     "metadata": {},
     "outputs": [],
     "prompt_number": 22
    },
    {
     "cell_type": "code",
     "collapsed": false,
     "input": [
      "'''\n",
      "outfile = 'figure01_right.txt'\n",
      "ascii.write([energy_range, taux_small_rg, taux_small_gra, taux_small_sil, taux_big_rg, taux_big_gra, taux_big_sil], outfile, \\\n",
      "            names=['Energy','Small-RG-Drude','Small-Mie-Graphite','Small-Mie-Silicate','Big-RG-Drude','Big-Mie-Graphite','Big-Mie-Silicate'])\n",
      "'''"
     ],
     "language": "python",
     "metadata": {},
     "outputs": [],
     "prompt_number": 20
    },
    {
     "cell_type": "code",
     "collapsed": false,
     "input": [
      "'''\n",
      "outfile = 'figure01_right_color.txt'\n",
      "ascii.write([energy_range, taux_gra_dist, taux_sil_dist], outfile, \\\n",
      "            names=['Energy','DDist-Mie-Graphite','DDist-Mie-Silicate'])\n",
      "'''"
     ],
     "language": "python",
     "metadata": {},
     "outputs": [],
     "prompt_number": 52
    },
    {
     "cell_type": "markdown",
     "metadata": {},
     "source": [
      "** Load data **"
     ]
    },
    {
     "cell_type": "code",
     "collapsed": false,
     "input": [
      "infile = 'figure01_left.txt'\n",
      "data   = ascii.read(infile)\n",
      "\n",
      "taux_rg  = data['RG-Drude']\n",
      "taux_gra = data['Mie-Graphite']\n",
      "taux_sil = data['Mie-Silicate']"
     ],
     "language": "python",
     "metadata": {},
     "outputs": [],
     "prompt_number": 24
    },
    {
     "cell_type": "code",
     "collapsed": false,
     "input": [
      "infile = 'figure01_right.txt'\n",
      "data   = ascii.read(infile)\n",
      "\n",
      "taux_small_rg  = data['Small-RG-Drude']\n",
      "taux_small_gra = data['Small-Mie-Graphite']\n",
      "taux_small_sil = data['Small-Mie-Silicate']\n",
      "\n",
      "taux_big_rg  = data['Big-RG-Drude']\n",
      "taux_big_gra = data['Big-Mie-Graphite']\n",
      "taux_big_sil = data['Big-Mie-Silicate']"
     ],
     "language": "python",
     "metadata": {},
     "outputs": [],
     "prompt_number": 26
    },
    {
     "cell_type": "code",
     "collapsed": false,
     "input": [
      "infile = 'figure01_right_color.txt'\n",
      "data   = ascii.read(infile)\n",
      "\n",
      "taux_gra_dist = data['DDist-Mie-Graphite']\n",
      "taux_sil_dist = data['DDist-Mie-Silicate']"
     ],
     "language": "python",
     "metadata": {},
     "outputs": [],
     "prompt_number": 53
    },
    {
     "cell_type": "markdown",
     "metadata": {},
     "source": [
      "** Plot it up **"
     ]
    },
    {
     "cell_type": "code",
     "collapsed": false,
     "input": [
      "def plot_tau_vs_grainsize(ax, ylim=(0.0,0.15)):\n",
      "    ax.plot(grainsize, taux_rg, 'k-', lw=2, label='RG-Drude')\n",
      "    plt.plot(grainsize, taux_gra, '--', color='k', lw=1, label='Mie-Graphite')\n",
      "    plt.plot(grainsize, taux_sil, color='k', ls='dashdot', lw=1, label='Mie-Silicate')\n",
      "    plt.legend(loc='upper right', fontsize=12)\n",
      "\n",
      "    plt.ylim(ylim)\n",
      "    \n",
      "    plt.text(0.15, 0.13, r'$0.5\\ {\\rm keV}$', size=15)\n",
      "    \n",
      "    return"
     ],
     "language": "python",
     "metadata": {},
     "outputs": [],
     "prompt_number": 54
    },
    {
     "cell_type": "code",
     "collapsed": false,
     "input": [
      "def plot_tau_vs_energy(ax, ylim=(0.0,0.05)):\n",
      "    gcolor = {'small':'0.0', 'big':'0.3'}\n",
      "    ax.plot(energy_range, taux_small_rg, color=gcolor['small'], lw=2, label='RG-Drude')\n",
      "    ax.plot(energy_range, taux_small_gra, ls='--', color=gcolor['small'], lw=1, label='RG-Drude')\n",
      "    ax.plot(energy_range, taux_small_sil, ls='dashdot', color=gcolor['small'], lw=1, label='RG-Drude')\n",
      "\n",
      "    \n",
      "    #plt.legend(loc='upper right')\n",
      "    ax.plot(energy_range, taux_big_rg, color=gcolor['big'], lw=2)\n",
      "    ax.plot(energy_range, taux_big_gra, ls='--', color=gcolor['big'], lw=1)\n",
      "    ax.plot(energy_range, taux_big_sil, ls='dashdot', color=gcolor['big'], lw=1)\n",
      "    \n",
      "    plt.ylim(ylim)\n",
      "    plt.xlim(0.5,1.5)\n",
      "    \n",
      "    plt.text(0.6, 0.007, r'$0.1\\ \\mu m$', color=gcolor['small'], size=15)\n",
      "    plt.text(1.0, 0.04, r'$1.0\\ \\mu m$', color=gcolor['big'], size=15)\n",
      "    \n",
      "    return"
     ],
     "language": "python",
     "metadata": {},
     "outputs": [],
     "prompt_number": 55
    },
    {
     "cell_type": "code",
     "collapsed": false,
     "input": [
      "def plot_tau_vs_energy_ddist(ax, ylim=(0.0, 0.05)):\n",
      "    gcolor = {'sil':'g', 'gra':'b'}\n",
      "    ax.plot(energy_range, taux_gra_dist, color=gcolor['gra'], ls='-', lw=2, alpha=0.8)\n",
      "    ax.plot(energy_range, taux_sil_dist, color=gcolor['sil'], ls='-', lw=2, alpha=0.8)\n",
      "    plt.text(0.77, 0.035, 'gra', color='b', size=12)\n",
      "    plt.text(0.60, 0.028, 'sil', color='g', size=12)\n",
      "    return"
     ],
     "language": "python",
     "metadata": {},
     "outputs": [],
     "prompt_number": 64
    },
    {
     "cell_type": "code",
     "collapsed": false,
     "input": [
      "fig = plt.figure(figsize=(12,4))\n",
      "\n",
      "left = plt.subplot(121)\n",
      "plot_tau_vs_grainsize(left)\n",
      "plt.xlabel(r'Grain size [$\\mu$m]')\n",
      "plt.ylabel(r'$\\tau_{\\rm sca}$', size=20)\n",
      "\n",
      "right=plt.subplot(122)\n",
      "plot_tau_vs_energy(right)\n",
      "plt.xlabel(r'Energy [keV]')\n",
      "\n",
      "plot_tau_vs_energy_ddist(right)\n",
      "\n",
      "fig.subplots_adjust(wspace=0.1)\n",
      "#plt.savefig('/Users/lia/Dropbox/Writing/Ghost_Halos/figure01.pdf', format='pdf')"
     ],
     "language": "python",
     "metadata": {},
     "outputs": [
      {
       "metadata": {},
       "output_type": "display_data",
       "png": "[encoded data removed]",
       "text": [
        "<matplotlib.figure.Figure at 0x110ff1590>"
       ]
      }
     ],
     "prompt_number": 66
    },
    {
     "cell_type": "code",
     "collapsed": false,
     "input": [],
     "language": "python",
     "metadata": {},
     "outputs": [],
     "prompt_number": 9
    }
   ],
   "metadata": {}
  }
 ]
}